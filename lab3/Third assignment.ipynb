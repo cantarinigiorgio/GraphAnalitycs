{
 "cells": [
  {
   "cell_type": "markdown",
   "metadata": {},
   "source": [
    "# Third assignment: Social contagion"
   ]
  },
  {
   "cell_type": "code",
   "execution_count": 1,
   "metadata": {},
   "outputs": [],
   "source": [
    "import numpy as np\n",
    "import matplotlib.pyplot as plt\n",
    "import seaborn as sns\n",
    "import networkx as nx\n",
    "import itertools\n",
    "\n",
    "import plotly \n",
    "plotly.tools.set_credentials_file(username='franco.danilo', api_key='ecMyRQ2GXo5ZASr8AgFu')\n",
    "\n",
    "import plotly.plotly as py\n",
    "import plotly.graph_objs as go"
   ]
  },
  {
   "cell_type": "markdown",
   "metadata": {},
   "source": [
    "## 0. Contagion utilities definitions"
   ]
  },
  {
   "cell_type": "code",
   "execution_count": 2,
   "metadata": {},
   "outputs": [],
   "source": [
    "def init_labels(graph):\n",
    "    labels={}\n",
    "    for node in graph.nodes():\n",
    "        labels[node] = 'b'\n",
    "    return labels\n",
    "\n",
    "def susceptibleList(labeledNodes):\n",
    "    return [k for k,v in labeledNodes.items() if v=='b']\n",
    "\n",
    "def node_neighbourhood(graph):\n",
    "    neig = {}\n",
    "    \n",
    "    for node in graph.nodes():\n",
    "        neig[node]=[]\n",
    "        \n",
    "    for i,j in graph.edges():\n",
    "        neig[i].append(j)\n",
    "        neig[j].append(i)\n",
    "    \n",
    "    return neig\n",
    "\n",
    "def spread_contagion(neigbours, labeledNodes, decisionPO, verbose=False):\n",
    "    i = 1\n",
    "    changed = 0\n",
    "    \n",
    "    while True:\n",
    "        current = list(labeledNodes.values())\n",
    "        susc = susceptibleList(labeledNodes)\n",
    "        \n",
    "        for node in susc:            \n",
    "             \n",
    "            num_neigb = len(neigbours[node])\n",
    "            infct_neigb = len([friend for friend in neigbours[node] if labeledNodes[friend]=='r'])\n",
    "            \n",
    "            if num_neigb!=0 and infct_neigb/num_neigb>=decisionPO:\n",
    "                labeledNodes[node]='r'\n",
    "                susc.remove(node)\n",
    "                changed += 1\n",
    "                \n",
    "        if verbose:\n",
    "            plt.figure(figsize=(15,8))\n",
    "            plt.title(\"iteration {}: #Susceptible:{}, #Infected:{}\"\n",
    "                      .format(i,len(susc),len(labeledNodes)-len(susc)))\n",
    "            nx.draw_networkx(G, pos, node_color=labeledNodes.values(), font_size=10, node_size=80) \n",
    "\n",
    "        if current==list(labeledNodes.values()): break\n",
    "        \n",
    "        i+=1\n",
    "    return changed\n",
    "        \n",
    "def graph_infection(labeledNodes, rankedInfectList):\n",
    "    susc = susceptibleList(labeledNodes)\n",
    "    while True:\n",
    "        node,_ = rankedInfectList.pop(0)\n",
    "        if node in susc:\n",
    "            labeledNodes[node]='r'\n",
    "            break\n",
    "    return node\n",
    "        \n",
    "def evaluate_spread(graph, payOffMatrix_dict, toBeInfected, verbose=False):\n",
    "    suscPerIter = {}\n",
    "    \n",
    "    neigb = node_neighbourhood(graph)\n",
    "\n",
    "    for setting, mtrx in payOffMatrix_dict.items():\n",
    "        \n",
    "        if verbose: print(setting)\n",
    "            \n",
    "        remaining_list = toBeInfected.copy()\n",
    "        labels = init_labels(graph)\n",
    "        suscPerIter[setting]=[[],[]]\n",
    "        \n",
    "        while True:\n",
    "            susc = susceptibleList(labels)\n",
    "            suscPerIter[setting][0].append(len(susc))\n",
    "            \n",
    "            if len(susc)==0: break\n",
    "                \n",
    "            infct_node = graph_infection(labels, remaining_list)\n",
    "            infct_influence = spread_contagion(neigb, labels, mtrx[1,1]/(mtrx[0,0]+mtrx[1,1]), verbose)\n",
    "            \n",
    "            if verbose: print(\"\\t {} infected {} nodes\".format(infct_node, infct_influence))\n",
    "                \n",
    "            suscPerIter[setting][1].append((infct_node,infct_influence))\n",
    "    return suscPerIter\n",
    "\n",
    "def plot_distribution2(distrDict, title):\n",
    "    layout = go.Layout(\n",
    "        title=go.layout.Title(text=\"{} contagion evolution\".format(title)),\n",
    "        xaxis=go.layout.XAxis(\n",
    "            title=go.layout.xaxis.Title(text=\"#infections\")\n",
    "        ),\n",
    "        yaxis=go.layout.YAxis(\n",
    "            title=go.layout.yaxis.Title(text=\"#susceptibles\")\n",
    "        )\n",
    "    )\n",
    "    \n",
    "    data = []\n",
    "    for setting, suscList in distrDict.items():\n",
    "        sizes = list(map(lambda pair:pair[1],suscList[1]))\n",
    "        \n",
    "        trace = go.Scatter(\n",
    "            y=suscList[0],\n",
    "            name=setting,\n",
    "            text=list(map(lambda pair: \"'{}' infected {}\".format(pair[0],pair[1]),suscList[1])),#suscList[1],\n",
    "            marker=dict(\n",
    "                size=sizes,\n",
    "                sizemode='area',\n",
    "                sizeref=2.*max(sizes)/(50.**2),\n",
    "                sizemin=5\n",
    "            )\n",
    "        )\n",
    "        data.append(trace)\n",
    "        \n",
    "    return py.iplot(go.Figure(data=data, layout=layout), filename=\"{} contagion evolution\".format(title))\n",
    "\n",
    "def plot_distribution(distrDict, title):\n",
    "    plt.figure(figsize=(15,8))\n",
    "    plt.title(\"{} contagion evolution\".format(title))\n",
    "    plt.grid()\n",
    "    plt.xlabel(\"#Infections\")\n",
    "    plt.ylabel(\"#susceptibles\")\n",
    "    for setting, suscList in distrDict.items():\n",
    "        plt.plot(suscList[0], label=setting)\n",
    "    plt.legend()"
   ]
  },
  {
   "cell_type": "markdown",
   "metadata": {},
   "source": [
    "### -- Random infection "
   ]
  },
  {
   "cell_type": "code",
   "execution_count": 3,
   "metadata": {},
   "outputs": [],
   "source": [
    "def random_ranking(graph):\n",
    "    return list(zip(np.random.permutation(graph.nodes()),range(1,graph.number_of_nodes()+1)))"
   ]
  },
  {
   "cell_type": "markdown",
   "metadata": {},
   "source": [
    "### -- Nodes-measure guided infections"
   ]
  },
  {
   "cell_type": "code",
   "execution_count": 4,
   "metadata": {},
   "outputs": [],
   "source": [
    "def metric_ranking(metricFunction, graph, index=None):\n",
    "    if index is None:\n",
    "        metricDict = dict(metricFunction(graph))\n",
    "    else:\n",
    "        metricDict = dict(metricFunction(graph)[index])\n",
    "    \n",
    "    return sorted(metricDict.items(), key=lambda pair:pair[1], reverse=True)"
   ]
  },
  {
   "cell_type": "markdown",
   "metadata": {},
   "source": [
    "## 0.5 Payoff matrix definition"
   ]
  },
  {
   "cell_type": "code",
   "execution_count": 5,
   "metadata": {},
   "outputs": [],
   "source": [
    "def build_payoff(n=5):\n",
    "    payoff = {}\n",
    "    for i in range(1,n+1):\n",
    "        m = np.eye(2)\n",
    "        m[0,0] *= i\n",
    "        payoff[\"b/(a+b) = 1/{}\".format(1+i)] = m\n",
    "    return payoff"
   ]
  },
  {
   "cell_type": "code",
   "execution_count": 6,
   "metadata": {},
   "outputs": [
    {
     "data": {
      "text/plain": [
       "{'b/(a+b) = 1/2': array([[1., 0.],\n",
       "        [0., 1.]]), 'b/(a+b) = 1/3': array([[2., 0.],\n",
       "        [0., 1.]]), 'b/(a+b) = 1/4': array([[3., 0.],\n",
       "        [0., 1.]]), 'b/(a+b) = 1/5': array([[4., 0.],\n",
       "        [0., 1.]]), 'b/(a+b) = 1/6': array([[5., 0.],\n",
       "        [0., 1.]])}"
      ]
     },
     "execution_count": 6,
     "metadata": {},
     "output_type": "execute_result"
    }
   ],
   "source": [
    "payoff_dict = build_payoff()\n",
    "payoff_dict"
   ]
  },
  {
   "cell_type": "markdown",
   "metadata": {},
   "source": [
    "**In this lab we inspect the diffusion of a Social Contagion: first we try on a toy graph (Davis southern women graph) then to different kind of random graph varying p (probability of having an edge between nodes) and to a power-law graph; finally we try it on our graph.<br>\n",
    "We try also to spread the infection from a random starting point and also to high central points (using difference centrality measures) in order to see how much time it requires to infect all nodes.\n",
    "**"
   ]
  },
  {
   "cell_type": "markdown",
   "metadata": {},
   "source": [
    "## 1. Toy Graph - Davis_southern_women_graph"
   ]
  },
  {
   "cell_type": "code",
   "execution_count": 7,
   "metadata": {},
   "outputs": [],
   "source": [
    "G = nx.davis_southern_women_graph()\n",
    "pos = nx.spring_layout(G)"
   ]
  },
  {
   "cell_type": "code",
   "execution_count": 8,
   "metadata": {
    "scrolled": false
   },
   "outputs": [
    {
     "name": "stderr",
     "output_type": "stream",
     "text": [
      "/Users/danilo/.conda/envs/ga/lib/python3.7/site-packages/networkx/drawing/nx_pylab.py:611: MatplotlibDeprecationWarning:\n",
      "\n",
      "isinstance(..., numbers.Number)\n",
      "\n"
     ]
    },
    {
     "name": "stdout",
     "output_type": "stream",
     "text": [
      "Number of nodes: 32\n",
      "Number of edges: 89\n"
     ]
    },
    {
     "data": {
      "image/png": "[encoded data removed]",
      "text/plain": [
       "<Figure size 1080x576 with 1 Axes>"
      ]
     },
     "metadata": {
      "needs_background": "light"
     },
     "output_type": "display_data"
    }
   ],
   "source": [
    "plt.figure(figsize=(15,8))\n",
    "nx.draw_networkx(G,pos,font_size=10,node_size=50)\n",
    "\n",
    "#Print node numbers \n",
    "print(\"Number of nodes:\",G.number_of_nodes())\n",
    "#Print edges number G.number_of_edges()\n",
    "print(\"Number of edges:\",G.number_of_edges())"
   ]
  },
  {
   "cell_type": "markdown",
   "metadata": {},
   "source": [
    "### -- random infection"
   ]
  },
  {
   "cell_type": "code",
   "execution_count": 9,
   "metadata": {},
   "outputs": [],
   "source": [
    "labels = init_labels(G)\n",
    "randomInfection = random_ranking(G)\n",
    "#randomInfection"
   ]
  },
  {
   "cell_type": "code",
   "execution_count": 10,
   "metadata": {
    "scrolled": true
   },
   "outputs": [],
   "source": [
    "rand_eval = evaluate_spread(G, payoff_dict, randomInfection)"
   ]
  },
  {
   "cell_type": "code",
   "execution_count": 11,
   "metadata": {},
   "outputs": [
    {
     "data": {
      "image/png": "[encoded data removed]",
      "text/plain": [
       "<Figure size 1080x576 with 1 Axes>"
      ]
     },
     "metadata": {
      "needs_background": "light"
     },
     "output_type": "display_data"
    }
   ],
   "source": [
    "plot_distribution(rand_eval, \"Random-Infection\")"
   ]
  },
  {
   "cell_type": "markdown",
   "metadata": {},
   "source": [
    "### -- closeness guided infection"
   ]
  },
  {
   "cell_type": "code",
   "execution_count": 12,
   "metadata": {},
   "outputs": [],
   "source": [
    "labels = init_labels(G)\n",
    "ranked_cls = metric_ranking(nx.closeness_centrality, G)\n",
    "#ranked_cls"
   ]
  },
  {
   "cell_type": "code",
   "execution_count": 13,
   "metadata": {
    "scrolled": true
   },
   "outputs": [],
   "source": [
    "cls_eval = evaluate_spread(G, payoff_dict, ranked_cls)"
   ]
  },
  {
   "cell_type": "code",
   "execution_count": 14,
   "metadata": {},
   "outputs": [
    {
     "data": {
      "image/png": "[encoded data removed]",
      "text/plain": [
       "<Figure size 1080x576 with 1 Axes>"
      ]
     },
     "metadata": {
      "needs_background": "light"
     },
     "output_type": "display_data"
    }
   ],
   "source": [
    "plot_distribution(cls_eval, \"Closeness-guided\")"
   ]
  },
  {
   "cell_type": "markdown",
   "metadata": {},
   "source": [
    "### -- betweenness guided infection"
   ]
  },
  {
   "cell_type": "code",
   "execution_count": null,
   "metadata": {},
   "outputs": [],
   "source": [
    "labels = init_labels(G)\n",
    "ranked_btw = metric_ranking(nx.betweenness_centrality, G)\n",
    "#ranked_btw"
   ]
  },
  {
   "cell_type": "code",
   "execution_count": null,
   "metadata": {
    "scrolled": true
   },
   "outputs": [],
   "source": [
    "btw_eval = evaluate_spread(G, payoff_dict, ranked_btw)"
   ]
  },
  {
   "cell_type": "code",
   "execution_count": null,
   "metadata": {
    "scrolled": false
   },
   "outputs": [],
   "source": [
    "plot_distribution(btw_eval, \"Betweenness-guided\")"
   ]
  },
  {
   "cell_type": "markdown",
   "metadata": {},
   "source": [
    "### -- highest degree guided infection"
   ]
  },
  {
   "cell_type": "code",
   "execution_count": null,
   "metadata": {},
   "outputs": [],
   "source": [
    "labels = init_labels(G)\n",
    "ranked_deg = metric_ranking(nx.degree, G)\n",
    "#ranked_deg"
   ]
  },
  {
   "cell_type": "code",
   "execution_count": null,
   "metadata": {
    "scrolled": true
   },
   "outputs": [],
   "source": [
    "deg_eval = evaluate_spread(G, payoff_dict, ranked_deg)"
   ]
  },
  {
   "cell_type": "code",
   "execution_count": null,
   "metadata": {
    "scrolled": false
   },
   "outputs": [],
   "source": [
    "plot_distribution(deg_eval, \"Degree-guided\")"
   ]
  },
  {
   "cell_type": "markdown",
   "metadata": {},
   "source": [
    "### -- clustering guided infection"
   ]
  },
  {
   "cell_type": "code",
   "execution_count": null,
   "metadata": {},
   "outputs": [],
   "source": [
    "labels = init_labels(G)\n",
    "ranked_clt = metric_ranking(nx.clustering, G)\n",
    "#ranked_clt"
   ]
  },
  {
   "cell_type": "code",
   "execution_count": null,
   "metadata": {},
   "outputs": [],
   "source": [
    "clt_eval = evaluate_spread(G, payoff_dict, ranked_clt)"
   ]
  },
  {
   "cell_type": "code",
   "execution_count": null,
   "metadata": {},
   "outputs": [],
   "source": [
    "plot_distribution(clt_eval, \"Clustering-guided\")"
   ]
  },
  {
   "cell_type": "markdown",
   "metadata": {},
   "source": [
    "### -- pagerank guided infection"
   ]
  },
  {
   "cell_type": "code",
   "execution_count": null,
   "metadata": {},
   "outputs": [],
   "source": [
    "labels = init_labels(G)\n",
    "ranked_prk = metric_ranking(nx.pagerank_numpy, G)\n",
    "#ranked_prk"
   ]
  },
  {
   "cell_type": "code",
   "execution_count": null,
   "metadata": {},
   "outputs": [],
   "source": [
    "prk_eval = evaluate_spread(G, payoff_dict, ranked_prk)"
   ]
  },
  {
   "cell_type": "code",
   "execution_count": null,
   "metadata": {},
   "outputs": [],
   "source": [
    "plot_distribution(prk_eval, \"Clustering-guided\")"
   ]
  },
  {
   "cell_type": "markdown",
   "metadata": {},
   "source": [
    "### -- HITS (hubs=authorities) guided infection"
   ]
  },
  {
   "cell_type": "code",
   "execution_count": null,
   "metadata": {},
   "outputs": [],
   "source": [
    "labels = init_labels(G)\n",
    "ranked_hit = metric_ranking(nx.hits_numpy, G, index=0)\n",
    "#ranked_hit"
   ]
  },
  {
   "cell_type": "code",
   "execution_count": null,
   "metadata": {},
   "outputs": [],
   "source": [
    "hit_eval = evaluate_spread(G, payoff_dict, ranked_hit)"
   ]
  },
  {
   "cell_type": "code",
   "execution_count": null,
   "metadata": {},
   "outputs": [],
   "source": [
    "plot_distribution(hit_eval, \"Hits-guided\")"
   ]
  },
  {
   "cell_type": "markdown",
   "metadata": {},
   "source": [
    "## 2. Erdős-Rényi random graph [$G_{np}$]"
   ]
  },
  {
   "cell_type": "code",
   "execution_count": null,
   "metadata": {},
   "outputs": [],
   "source": [
    "n = 100"
   ]
  },
  {
   "cell_type": "markdown",
   "metadata": {},
   "source": [
    "### 2.1  $p<\\frac{1}{n}$"
   ]
  },
  {
   "cell_type": "code",
   "execution_count": null,
   "metadata": {},
   "outputs": [],
   "source": [
    "G = nx.gnp_random_graph(n,1/(n*2))\n",
    "pos = nx.spring_layout(G)\n",
    "print(\"Average degree = {}\".format(np.mean(list(map(lambda item:item[1], G.degree)))))"
   ]
  },
  {
   "cell_type": "code",
   "execution_count": null,
   "metadata": {
    "scrolled": false
   },
   "outputs": [],
   "source": [
    "plt.figure(figsize=(15,8))\n",
    "nx.draw_networkx(G,pos,font_size=10,node_size=50)"
   ]
  },
  {
   "cell_type": "markdown",
   "metadata": {},
   "source": [
    "### -- random infection"
   ]
  },
  {
   "cell_type": "code",
   "execution_count": null,
   "metadata": {},
   "outputs": [],
   "source": [
    "labels = init_labels(G)\n",
    "randomInfection = random_ranking(G)\n",
    "#randomInfection"
   ]
  },
  {
   "cell_type": "code",
   "execution_count": null,
   "metadata": {},
   "outputs": [],
   "source": [
    "rand_eval = evaluate_spread(G, payoff_dict, randomInfection)"
   ]
  },
  {
   "cell_type": "code",
   "execution_count": null,
   "metadata": {},
   "outputs": [],
   "source": [
    "plot_distribution(rand_eval, \"Random-Infection\")"
   ]
  },
  {
   "cell_type": "markdown",
   "metadata": {},
   "source": [
    "### -- closeness guided infection"
   ]
  },
  {
   "cell_type": "code",
   "execution_count": null,
   "metadata": {},
   "outputs": [],
   "source": [
    "labels = init_labels(G)\n",
    "ranked_cls = metric_ranking(nx.closeness_centrality, G)\n",
    "#ranked_cls"
   ]
  },
  {
   "cell_type": "code",
   "execution_count": null,
   "metadata": {
    "scrolled": true
   },
   "outputs": [],
   "source": [
    "cls_eval = evaluate_spread(G, payoff_dict, ranked_cls)"
   ]
  },
  {
   "cell_type": "code",
   "execution_count": null,
   "metadata": {},
   "outputs": [],
   "source": [
    "plot_distribution(cls_eval, \"Closeness-guided\")"
   ]
  },
  {
   "cell_type": "markdown",
   "metadata": {},
   "source": [
    "### -- betweenness guided infection"
   ]
  },
  {
   "cell_type": "code",
   "execution_count": null,
   "metadata": {
    "scrolled": true
   },
   "outputs": [],
   "source": [
    "labels = init_labels(G)\n",
    "ranked_btw = metric_ranking(nx.betweenness_centrality, G)\n",
    "#ranked_btw"
   ]
  },
  {
   "cell_type": "code",
   "execution_count": null,
   "metadata": {
    "scrolled": true
   },
   "outputs": [],
   "source": [
    "btw_eval = evaluate_spread(G, payoff_dict, ranked_btw)"
   ]
  },
  {
   "cell_type": "code",
   "execution_count": null,
   "metadata": {
    "scrolled": false
   },
   "outputs": [],
   "source": [
    "plot_distribution(btw_eval, \"Betweenness-guided\")"
   ]
  },
  {
   "cell_type": "markdown",
   "metadata": {},
   "source": [
    "### -- highest degree guided infection"
   ]
  },
  {
   "cell_type": "code",
   "execution_count": null,
   "metadata": {
    "scrolled": true
   },
   "outputs": [],
   "source": [
    "labels = init_labels(G)\n",
    "ranked_deg = metric_ranking(nx.degree, G)\n",
    "#ranked_deg"
   ]
  },
  {
   "cell_type": "code",
   "execution_count": null,
   "metadata": {
    "scrolled": true
   },
   "outputs": [],
   "source": [
    "deg_eval = evaluate_spread(G, payoff_dict, ranked_deg)"
   ]
  },
  {
   "cell_type": "code",
   "execution_count": null,
   "metadata": {
    "scrolled": false
   },
   "outputs": [],
   "source": [
    "plot_distribution(deg_eval, \"Degree-guided\")"
   ]
  },
  {
   "cell_type": "markdown",
   "metadata": {},
   "source": [
    "### -- clustering guided infection"
   ]
  },
  {
   "cell_type": "code",
   "execution_count": null,
   "metadata": {},
   "outputs": [],
   "source": [
    "labels = init_labels(G)\n",
    "ranked_clt = metric_ranking(nx.clustering, G)\n",
    "#ranked_cls"
   ]
  },
  {
   "cell_type": "code",
   "execution_count": null,
   "metadata": {},
   "outputs": [],
   "source": [
    "clt_eval = evaluate_spread(G, payoff_dict, ranked_clt)"
   ]
  },
  {
   "cell_type": "code",
   "execution_count": null,
   "metadata": {},
   "outputs": [],
   "source": [
    "plot_distribution(clt_eval, \"Clustering-guided\")"
   ]
  },
  {
   "cell_type": "markdown",
   "metadata": {},
   "source": [
    "### -- pagerank guided infection"
   ]
  },
  {
   "cell_type": "code",
   "execution_count": null,
   "metadata": {},
   "outputs": [],
   "source": [
    "labels = init_labels(G)\n",
    "ranked_prk = metric_ranking(nx.pagerank_numpy, G)\n",
    "#ranked_prk"
   ]
  },
  {
   "cell_type": "code",
   "execution_count": null,
   "metadata": {},
   "outputs": [],
   "source": [
    "prk_eval = evaluate_spread(G, payoff_dict, ranked_prk)"
   ]
  },
  {
   "cell_type": "code",
   "execution_count": null,
   "metadata": {},
   "outputs": [],
   "source": [
    "plot_distribution(prk_eval, \"Clustering-guided\")"
   ]
  },
  {
   "cell_type": "markdown",
   "metadata": {},
   "source": [
    "### -- HITS (hubs=authorities) guided infection"
   ]
  },
  {
   "cell_type": "code",
   "execution_count": null,
   "metadata": {},
   "outputs": [],
   "source": [
    "labels = init_labels(G)\n",
    "ranked_hit = metric_ranking(nx.hits_numpy, G, index=0)\n",
    "#ranked_hit"
   ]
  },
  {
   "cell_type": "code",
   "execution_count": null,
   "metadata": {},
   "outputs": [],
   "source": [
    "hit_eval = evaluate_spread(G, payoff_dict, ranked_hit)"
   ]
  },
  {
   "cell_type": "code",
   "execution_count": null,
   "metadata": {},
   "outputs": [],
   "source": [
    "plot_distribution(hit_eval, \"Hits-guided\")"
   ]
  },
  {
   "cell_type": "markdown",
   "metadata": {},
   "source": [
    "### 2.2  $\\frac{1}{n}<p<\\frac{\\log{n}}{n}$"
   ]
  },
  {
   "cell_type": "code",
   "execution_count": null,
   "metadata": {},
   "outputs": [],
   "source": [
    "G = nx.gnp_random_graph(n,1/n)\n",
    "pos = nx.spring_layout(G)\n",
    "print(\"Average degree = {}\".format(np.mean(list(map(lambda item:item[1], G.degree)))))"
   ]
  },
  {
   "cell_type": "code",
   "execution_count": null,
   "metadata": {
    "scrolled": false
   },
   "outputs": [],
   "source": [
    "plt.figure(figsize=(15,8))\n",
    "nx.draw_networkx(G,pos,font_size=10,node_size=50)"
   ]
  },
  {
   "cell_type": "markdown",
   "metadata": {},
   "source": [
    "### -- random infection"
   ]
  },
  {
   "cell_type": "code",
   "execution_count": null,
   "metadata": {},
   "outputs": [],
   "source": [
    "labels = init_labels(G)\n",
    "randomInfection = random_ranking(G)\n",
    "#randomInfection"
   ]
  },
  {
   "cell_type": "code",
   "execution_count": null,
   "metadata": {},
   "outputs": [],
   "source": [
    "rand_eval = evaluate_spread(G, payoff_dict, randomInfection)"
   ]
  },
  {
   "cell_type": "code",
   "execution_count": null,
   "metadata": {},
   "outputs": [],
   "source": [
    "plot_distribution(rand_eval, \"Random-Infection\")"
   ]
  },
  {
   "cell_type": "markdown",
   "metadata": {},
   "source": [
    "### -- closeness guided infection"
   ]
  },
  {
   "cell_type": "code",
   "execution_count": null,
   "metadata": {},
   "outputs": [],
   "source": [
    "labels = init_labels(G)\n",
    "ranked_cls = metric_ranking(nx.closeness_centrality, G)\n",
    "#ranked_cls"
   ]
  },
  {
   "cell_type": "code",
   "execution_count": null,
   "metadata": {
    "scrolled": true
   },
   "outputs": [],
   "source": [
    "cls_eval = evaluate_spread(G, payoff_dict, ranked_cls)"
   ]
  },
  {
   "cell_type": "code",
   "execution_count": null,
   "metadata": {},
   "outputs": [],
   "source": [
    "plot_distribution(cls_eval, \"Closeness-guided\")"
   ]
  },
  {
   "cell_type": "markdown",
   "metadata": {},
   "source": [
    "### -- betweenness guided infection"
   ]
  },
  {
   "cell_type": "code",
   "execution_count": null,
   "metadata": {
    "scrolled": true
   },
   "outputs": [],
   "source": [
    "labels = init_labels(G)\n",
    "ranked_btw = metric_ranking(nx.betweenness_centrality, G)\n",
    "#ranked_btw"
   ]
  },
  {
   "cell_type": "code",
   "execution_count": null,
   "metadata": {
    "scrolled": true
   },
   "outputs": [],
   "source": [
    "btw_eval = evaluate_spread(G, payoff_dict, ranked_btw)"
   ]
  },
  {
   "cell_type": "code",
   "execution_count": null,
   "metadata": {
    "scrolled": false
   },
   "outputs": [],
   "source": [
    "plot_distribution(btw_eval, \"Betweenness-guided\")"
   ]
  },
  {
   "cell_type": "markdown",
   "metadata": {},
   "source": [
    "### -- highest degree guided infection"
   ]
  },
  {
   "cell_type": "code",
   "execution_count": null,
   "metadata": {
    "scrolled": true
   },
   "outputs": [],
   "source": [
    "labels = init_labels(G)\n",
    "ranked_deg = metric_ranking(nx.degree, G)\n",
    "#ranked_deg"
   ]
  },
  {
   "cell_type": "code",
   "execution_count": null,
   "metadata": {
    "scrolled": true
   },
   "outputs": [],
   "source": [
    "deg_eval = evaluate_spread(G, payoff_dict, ranked_deg)"
   ]
  },
  {
   "cell_type": "code",
   "execution_count": null,
   "metadata": {
    "scrolled": false
   },
   "outputs": [],
   "source": [
    "plot_distribution(deg_eval, \"Degree-guided\")"
   ]
  },
  {
   "cell_type": "markdown",
   "metadata": {},
   "source": [
    "### -- clustering guided infection"
   ]
  },
  {
   "cell_type": "code",
   "execution_count": null,
   "metadata": {},
   "outputs": [],
   "source": [
    "labels = init_labels(G)\n",
    "ranked_clt = metric_ranking(nx.clustering, G)\n",
    "#ranked_cls"
   ]
  },
  {
   "cell_type": "code",
   "execution_count": null,
   "metadata": {},
   "outputs": [],
   "source": [
    "clt_eval = evaluate_spread(G, payoff_dict, ranked_clt)"
   ]
  },
  {
   "cell_type": "code",
   "execution_count": null,
   "metadata": {},
   "outputs": [],
   "source": [
    "plot_distribution(clt_eval, \"Clustering-guided\")"
   ]
  },
  {
   "cell_type": "markdown",
   "metadata": {},
   "source": [
    "### -- pagerank guided infection"
   ]
  },
  {
   "cell_type": "code",
   "execution_count": null,
   "metadata": {},
   "outputs": [],
   "source": [
    "labels = init_labels(G)\n",
    "ranked_prk = metric_ranking(nx.pagerank_numpy, G)\n",
    "#ranked_prk"
   ]
  },
  {
   "cell_type": "code",
   "execution_count": null,
   "metadata": {},
   "outputs": [],
   "source": [
    "prk_eval = evaluate_spread(G, payoff_dict, ranked_prk)"
   ]
  },
  {
   "cell_type": "code",
   "execution_count": null,
   "metadata": {},
   "outputs": [],
   "source": [
    "plot_distribution(prk_eval, \"Clustering-guided\")"
   ]
  },
  {
   "cell_type": "markdown",
   "metadata": {},
   "source": [
    "### -- HITS (hubs=authorities) guided infection"
   ]
  },
  {
   "cell_type": "code",
   "execution_count": null,
   "metadata": {},
   "outputs": [],
   "source": [
    "labels = init_labels(G)\n",
    "ranked_hit = metric_ranking(nx.hits_numpy, G, index=0)\n",
    "#ranked_hit"
   ]
  },
  {
   "cell_type": "code",
   "execution_count": null,
   "metadata": {},
   "outputs": [],
   "source": [
    "hit_eval = evaluate_spread(G, payoff_dict, ranked_hit)"
   ]
  },
  {
   "cell_type": "code",
   "execution_count": null,
   "metadata": {
    "scrolled": false
   },
   "outputs": [],
   "source": [
    "plot_distribution(hit_eval, \"Hits-guided\")"
   ]
  },
  {
   "cell_type": "markdown",
   "metadata": {},
   "source": [
    "### 2.3  $p>\\frac{\\log{n}}{n}$"
   ]
  },
  {
   "cell_type": "code",
   "execution_count": null,
   "metadata": {},
   "outputs": [],
   "source": [
    "G = nx.gnp_random_graph(n,np.log(n*2)/n)\n",
    "pos = nx.spring_layout(G)\n",
    "print(\"log(n)={}, <k>={}\".format(round(np.log(100),2), np.mean(list(map(lambda item:item[1], G.degree)))))"
   ]
  },
  {
   "cell_type": "code",
   "execution_count": null,
   "metadata": {},
   "outputs": [],
   "source": [
    "plt.figure(figsize=(15,8))\n",
    "nx.draw_networkx(G,pos,font_size=10,node_size=50)"
   ]
  },
  {
   "cell_type": "markdown",
   "metadata": {},
   "source": [
    "### -- random infection"
   ]
  },
  {
   "cell_type": "code",
   "execution_count": null,
   "metadata": {},
   "outputs": [],
   "source": [
    "labels = init_labels(G)\n",
    "randomInfection = random_ranking(G)\n",
    "#randomInfection"
   ]
  },
  {
   "cell_type": "code",
   "execution_count": null,
   "metadata": {},
   "outputs": [],
   "source": [
    "rand_eval = evaluate_spread(G, payoff_dict, randomInfection)"
   ]
  },
  {
   "cell_type": "code",
   "execution_count": null,
   "metadata": {},
   "outputs": [],
   "source": [
    "plot_distribution(rand_eval, \"Random-Infection\")"
   ]
  },
  {
   "cell_type": "markdown",
   "metadata": {},
   "source": [
    "### -- closeness guided infection"
   ]
  },
  {
   "cell_type": "code",
   "execution_count": null,
   "metadata": {},
   "outputs": [],
   "source": [
    "labels = init_labels(G)\n",
    "ranked_cls = metric_ranking(nx.closeness_centrality, G)\n",
    "#ranked_cls"
   ]
  },
  {
   "cell_type": "code",
   "execution_count": null,
   "metadata": {
    "scrolled": true
   },
   "outputs": [],
   "source": [
    "cls_eval = evaluate_spread(G, payoff_dict, ranked_cls)"
   ]
  },
  {
   "cell_type": "code",
   "execution_count": null,
   "metadata": {},
   "outputs": [],
   "source": [
    "plot_distribution(cls_eval, \"Closeness-guided\")"
   ]
  },
  {
   "cell_type": "markdown",
   "metadata": {},
   "source": [
    "### -- betweenness guided infection"
   ]
  },
  {
   "cell_type": "code",
   "execution_count": null,
   "metadata": {
    "scrolled": true
   },
   "outputs": [],
   "source": [
    "labels = init_labels(G)\n",
    "ranked_btw = metric_ranking(nx.betweenness_centrality, G)\n",
    "#ranked_btw"
   ]
  },
  {
   "cell_type": "code",
   "execution_count": null,
   "metadata": {
    "scrolled": true
   },
   "outputs": [],
   "source": [
    "btw_eval = evaluate_spread(G, payoff_dict, ranked_btw)"
   ]
  },
  {
   "cell_type": "code",
   "execution_count": null,
   "metadata": {
    "scrolled": false
   },
   "outputs": [],
   "source": [
    "plot_distribution(btw_eval, \"Betweenness-guided\")"
   ]
  },
  {
   "cell_type": "markdown",
   "metadata": {},
   "source": [
    "### -- highest degree guided infection"
   ]
  },
  {
   "cell_type": "code",
   "execution_count": null,
   "metadata": {
    "scrolled": true
   },
   "outputs": [],
   "source": [
    "labels = init_labels(G)\n",
    "ranked_deg = metric_ranking(nx.degree, G)\n",
    "#ranked_deg"
   ]
  },
  {
   "cell_type": "code",
   "execution_count": null,
   "metadata": {
    "scrolled": true
   },
   "outputs": [],
   "source": [
    "deg_eval = evaluate_spread(G, payoff_dict, ranked_deg)"
   ]
  },
  {
   "cell_type": "code",
   "execution_count": null,
   "metadata": {
    "scrolled": false
   },
   "outputs": [],
   "source": [
    "plot_distribution(deg_eval, \"Degree-guided\")"
   ]
  },
  {
   "cell_type": "markdown",
   "metadata": {},
   "source": [
    "### -- clustering guided infection"
   ]
  },
  {
   "cell_type": "code",
   "execution_count": null,
   "metadata": {},
   "outputs": [],
   "source": [
    "labels = init_labels(G)\n",
    "ranked_clt = metric_ranking(nx.clustering, G)\n",
    "#ranked_clt"
   ]
  },
  {
   "cell_type": "code",
   "execution_count": null,
   "metadata": {},
   "outputs": [],
   "source": [
    "clt_eval = evaluate_spread(G, payoff_dict, ranked_clt)"
   ]
  },
  {
   "cell_type": "code",
   "execution_count": null,
   "metadata": {},
   "outputs": [],
   "source": [
    "plot_distribution(clt_eval, \"Clustering-guided\")"
   ]
  },
  {
   "cell_type": "markdown",
   "metadata": {},
   "source": [
    "### -- pagerank guided infection"
   ]
  },
  {
   "cell_type": "code",
   "execution_count": null,
   "metadata": {},
   "outputs": [],
   "source": [
    "labels = init_labels(G)\n",
    "ranked_prk = metric_ranking(nx.pagerank_numpy, G)\n",
    "#ranked_prk"
   ]
  },
  {
   "cell_type": "code",
   "execution_count": null,
   "metadata": {},
   "outputs": [],
   "source": [
    "prk_eval = evaluate_spread(G, payoff_dict, ranked_prk)"
   ]
  },
  {
   "cell_type": "code",
   "execution_count": null,
   "metadata": {},
   "outputs": [],
   "source": [
    "plot_distribution(prk_eval, \"Clustering-guided\")"
   ]
  },
  {
   "cell_type": "markdown",
   "metadata": {},
   "source": [
    "### -- HITS (hubs=authorities) guided infection"
   ]
  },
  {
   "cell_type": "code",
   "execution_count": null,
   "metadata": {},
   "outputs": [],
   "source": [
    "labels = init_labels(G)\n",
    "ranked_hit = metric_ranking(nx.hits_numpy, G, index=0)\n",
    "#ranked_hit"
   ]
  },
  {
   "cell_type": "code",
   "execution_count": null,
   "metadata": {},
   "outputs": [],
   "source": [
    "hit_eval = evaluate_spread(G, payoff_dict, ranked_hit)"
   ]
  },
  {
   "cell_type": "code",
   "execution_count": null,
   "metadata": {
    "scrolled": false
   },
   "outputs": [],
   "source": [
    "plot_distribution(hit_eval, \"Hits-guided\")"
   ]
  },
  {
   "cell_type": "markdown",
   "metadata": {},
   "source": [
    "## 3. Power law network"
   ]
  },
  {
   "cell_type": "code",
   "execution_count": null,
   "metadata": {},
   "outputs": [],
   "source": [
    "G = nx.barabasi_albert_graph(n,2)\n",
    "pos = nx.spring_layout(G)"
   ]
  },
  {
   "cell_type": "code",
   "execution_count": null,
   "metadata": {
    "scrolled": false
   },
   "outputs": [],
   "source": [
    "plt.figure(figsize=(15,8))\n",
    "nx.draw_networkx(G,pos,font_size=10,node_size=50)"
   ]
  },
  {
   "cell_type": "markdown",
   "metadata": {},
   "source": [
    "### -- random infection"
   ]
  },
  {
   "cell_type": "code",
   "execution_count": null,
   "metadata": {},
   "outputs": [],
   "source": [
    "labels = init_labels(G)\n",
    "randomInfection = random_ranking(G)\n",
    "#randomInfection"
   ]
  },
  {
   "cell_type": "code",
   "execution_count": null,
   "metadata": {},
   "outputs": [],
   "source": [
    "rand_eval = evaluate_spread(G, payoff_dict, randomInfection)"
   ]
  },
  {
   "cell_type": "code",
   "execution_count": null,
   "metadata": {},
   "outputs": [],
   "source": [
    "plot_distribution(rand_eval, \"Random-Infection\")"
   ]
  },
  {
   "cell_type": "markdown",
   "metadata": {},
   "source": [
    "### -- closeness guided infection"
   ]
  },
  {
   "cell_type": "code",
   "execution_count": null,
   "metadata": {},
   "outputs": [],
   "source": [
    "labels = init_labels(G)\n",
    "ranked_cls = metric_ranking(nx.closeness_centrality, G)\n",
    "#ranked_cls"
   ]
  },
  {
   "cell_type": "code",
   "execution_count": null,
   "metadata": {
    "scrolled": true
   },
   "outputs": [],
   "source": [
    "cls_eval = evaluate_spread(G, payoff_dict, ranked_cls)"
   ]
  },
  {
   "cell_type": "code",
   "execution_count": null,
   "metadata": {},
   "outputs": [],
   "source": [
    "plot_distribution(cls_eval, \"Closeness-guided\")"
   ]
  },
  {
   "cell_type": "markdown",
   "metadata": {},
   "source": [
    "### -- betweenness guided infection"
   ]
  },
  {
   "cell_type": "code",
   "execution_count": null,
   "metadata": {
    "scrolled": true
   },
   "outputs": [],
   "source": [
    "labels = init_labels(G)\n",
    "ranked_btw = metric_ranking(nx.betweenness_centrality, G)\n",
    "#ranked_btw"
   ]
  },
  {
   "cell_type": "code",
   "execution_count": null,
   "metadata": {
    "scrolled": true
   },
   "outputs": [],
   "source": [
    "btw_eval = evaluate_spread(G, payoff_dict, ranked_btw)"
   ]
  },
  {
   "cell_type": "code",
   "execution_count": null,
   "metadata": {
    "scrolled": false
   },
   "outputs": [],
   "source": [
    "plot_distribution(btw_eval, \"Betweenness-guided\")"
   ]
  },
  {
   "cell_type": "markdown",
   "metadata": {},
   "source": [
    "### -- highest degree guided infection"
   ]
  },
  {
   "cell_type": "code",
   "execution_count": null,
   "metadata": {
    "scrolled": true
   },
   "outputs": [],
   "source": [
    "labels = init_labels(G)\n",
    "ranked_deg = metric_ranking(nx.degree, G)\n",
    "#ranked_deg"
   ]
  },
  {
   "cell_type": "code",
   "execution_count": null,
   "metadata": {
    "scrolled": true
   },
   "outputs": [],
   "source": [
    "deg_eval = evaluate_spread(G, payoff_dict, ranked_deg)"
   ]
  },
  {
   "cell_type": "code",
   "execution_count": null,
   "metadata": {
    "scrolled": false
   },
   "outputs": [],
   "source": [
    "plot_distribution(deg_eval, \"Degree-guided\")"
   ]
  },
  {
   "cell_type": "markdown",
   "metadata": {},
   "source": [
    "### -- clustering guided infection"
   ]
  },
  {
   "cell_type": "code",
   "execution_count": null,
   "metadata": {},
   "outputs": [],
   "source": [
    "labels = init_labels(G)\n",
    "ranked_clt = metric_ranking(nx.clustering, G)\n",
    "#ranked_clt"
   ]
  },
  {
   "cell_type": "code",
   "execution_count": null,
   "metadata": {},
   "outputs": [],
   "source": [
    "clt_eval = evaluate_spread(G, payoff_dict, ranked_clt)"
   ]
  },
  {
   "cell_type": "code",
   "execution_count": null,
   "metadata": {},
   "outputs": [],
   "source": [
    "plot_distribution(clt_eval, \"Clustering-guided\")"
   ]
  },
  {
   "cell_type": "markdown",
   "metadata": {},
   "source": [
    "### -- pagerank guided infection"
   ]
  },
  {
   "cell_type": "code",
   "execution_count": null,
   "metadata": {},
   "outputs": [],
   "source": [
    "labels = init_labels(G)\n",
    "ranked_prk = metric_ranking(nx.pagerank_numpy, G)\n",
    "#ranked_prk"
   ]
  },
  {
   "cell_type": "code",
   "execution_count": null,
   "metadata": {},
   "outputs": [],
   "source": [
    "prk_eval = evaluate_spread(G, payoff_dict, ranked_prk)"
   ]
  },
  {
   "cell_type": "code",
   "execution_count": null,
   "metadata": {},
   "outputs": [],
   "source": [
    "plot_distribution(prk_eval, \"Clustering-guided\")"
   ]
  },
  {
   "cell_type": "markdown",
   "metadata": {},
   "source": [
    "### -- HITS (hubs=authorities) guided infection"
   ]
  },
  {
   "cell_type": "code",
   "execution_count": null,
   "metadata": {},
   "outputs": [],
   "source": [
    "labels = init_labels(G)\n",
    "ranked_hit = metric_ranking(nx.hits_numpy, G, index=0)\n",
    "#ranked_hit"
   ]
  },
  {
   "cell_type": "code",
   "execution_count": null,
   "metadata": {},
   "outputs": [],
   "source": [
    "hit_eval = evaluate_spread(G, payoff_dict, ranked_hit)"
   ]
  },
  {
   "cell_type": "code",
   "execution_count": null,
   "metadata": {
    "scrolled": false
   },
   "outputs": [],
   "source": [
    "plot_distribution(hit_eval, \"Hits-guided\")"
   ]
  },
  {
   "cell_type": "markdown",
   "metadata": {},
   "source": [
    "## 4. Real Graph - arXiv collaboration on general relativity"
   ]
  },
  {
   "cell_type": "code",
   "execution_count": null,
   "metadata": {},
   "outputs": [],
   "source": [
    "G = nx.Graph()\n",
    "edges = nx.read_edgelist('../datasets/dataset.txt')\n",
    "G.add_edges_from(edges.edges())\n",
    "posTotal = nx.spring_layout(G)"
   ]
  },
  {
   "cell_type": "code",
   "execution_count": null,
   "metadata": {},
   "outputs": [],
   "source": [
    "plt.figure(figsize=(15,10))\n",
    "nx.draw_networkx(G, posTotal, font_size=0, node_size=50)\n",
    "\n",
    "#Print node numbers \n",
    "print(\"Number of nodes:\",G.number_of_nodes())\n",
    "#Print edges number G.number_of_edges()\n",
    "print(\"Number of edges:\",G.number_of_edges())"
   ]
  },
  {
   "cell_type": "markdown",
   "metadata": {},
   "source": [
    "### -- random infection"
   ]
  },
  {
   "cell_type": "code",
   "execution_count": null,
   "metadata": {},
   "outputs": [],
   "source": [
    "labels = init_labels(G)\n",
    "randomInfection = random_ranking(G)\n",
    "#randomInfection"
   ]
  },
  {
   "cell_type": "code",
   "execution_count": null,
   "metadata": {},
   "outputs": [],
   "source": [
    "rand_eval = evaluate_spread(G, payoff_dict, randomInfection)"
   ]
  },
  {
   "cell_type": "code",
   "execution_count": null,
   "metadata": {},
   "outputs": [],
   "source": [
    "plot_distribution(rand_eval, \"Random-Infection\")"
   ]
  },
  {
   "cell_type": "markdown",
   "metadata": {},
   "source": [
    "### -- closeness guided infection"
   ]
  },
  {
   "cell_type": "code",
   "execution_count": null,
   "metadata": {},
   "outputs": [],
   "source": [
    "labels = init_labels(G)\n",
    "ranked_cls = metric_ranking(nx.closeness_centrality, G)\n",
    "#ranked_cls"
   ]
  },
  {
   "cell_type": "code",
   "execution_count": null,
   "metadata": {
    "scrolled": true
   },
   "outputs": [],
   "source": [
    "cls_eval = evaluate_spread(G, payoff_dict, ranked_cls)"
   ]
  },
  {
   "cell_type": "code",
   "execution_count": null,
   "metadata": {},
   "outputs": [],
   "source": [
    "plot_distribution(cls_eval, \"Closeness-guided\")"
   ]
  },
  {
   "cell_type": "markdown",
   "metadata": {},
   "source": [
    "### -- betweenness guided infection"
   ]
  },
  {
   "cell_type": "code",
   "execution_count": null,
   "metadata": {
    "scrolled": true
   },
   "outputs": [],
   "source": [
    "labels = init_labels(G)\n",
    "ranked_btw = metric_ranking(nx.betweenness_centrality, G)\n",
    "#ranked_btw"
   ]
  },
  {
   "cell_type": "code",
   "execution_count": null,
   "metadata": {
    "scrolled": true
   },
   "outputs": [],
   "source": [
    "btw_eval = evaluate_spread(G, payoff_dict, ranked_btw)"
   ]
  },
  {
   "cell_type": "code",
   "execution_count": null,
   "metadata": {
    "scrolled": false
   },
   "outputs": [],
   "source": [
    "plot_distribution(btw_eval, \"Betweenness-guided\")"
   ]
  },
  {
   "cell_type": "markdown",
   "metadata": {},
   "source": [
    "### -- highest degree guided infection"
   ]
  },
  {
   "cell_type": "code",
   "execution_count": null,
   "metadata": {
    "scrolled": true
   },
   "outputs": [],
   "source": [
    "labels = init_labels(G)\n",
    "ranked_deg = metric_ranking(nx.degree, G)\n",
    "#ranked_deg"
   ]
  },
  {
   "cell_type": "code",
   "execution_count": null,
   "metadata": {
    "scrolled": true
   },
   "outputs": [],
   "source": [
    "deg_eval = evaluate_spread(G, payoff_dict, ranked_deg)"
   ]
  },
  {
   "cell_type": "code",
   "execution_count": null,
   "metadata": {
    "scrolled": true
   },
   "outputs": [],
   "source": [
    "plot_distribution(deg_eval, \"Degree-guided\")"
   ]
  },
  {
   "cell_type": "markdown",
   "metadata": {},
   "source": [
    "### -- clustering guided infection"
   ]
  },
  {
   "cell_type": "code",
   "execution_count": null,
   "metadata": {},
   "outputs": [],
   "source": [
    "labels = init_labels(G)\n",
    "ranked_clt = metric_ranking(nx.clustering, G)\n",
    "#ranked_clt"
   ]
  },
  {
   "cell_type": "code",
   "execution_count": null,
   "metadata": {},
   "outputs": [],
   "source": [
    "clt_eval = evaluate_spread(G, payoff_dict, ranked_clt)"
   ]
  },
  {
   "cell_type": "code",
   "execution_count": null,
   "metadata": {},
   "outputs": [],
   "source": [
    "plot_distribution(clt_eval, \"Clustering-guided\")"
   ]
  },
  {
   "cell_type": "markdown",
   "metadata": {},
   "source": [
    "### -- pagerank guided infection"
   ]
  },
  {
   "cell_type": "code",
   "execution_count": null,
   "metadata": {},
   "outputs": [],
   "source": [
    "labels = init_labels(G)\n",
    "ranked_prk = metric_ranking(nx.pagerank_numpy, G)\n",
    "#ranked_prk"
   ]
  },
  {
   "cell_type": "code",
   "execution_count": null,
   "metadata": {},
   "outputs": [],
   "source": [
    "prk_eval = evaluate_spread(G, payoff_dict, ranked_prk)"
   ]
  },
  {
   "cell_type": "code",
   "execution_count": null,
   "metadata": {},
   "outputs": [],
   "source": [
    "plot_distribution(prk_eval, \"Clustering-guided\")"
   ]
  },
  {
   "cell_type": "markdown",
   "metadata": {},
   "source": [
    "### -- HITS (hubs=authorities) guided infection"
   ]
  },
  {
   "cell_type": "code",
   "execution_count": null,
   "metadata": {},
   "outputs": [],
   "source": [
    "labels = init_labels(G)\n",
    "ranked_hit = metric_ranking(nx.hits_numpy, G, index=0)\n",
    "#ranked_hit"
   ]
  },
  {
   "cell_type": "code",
   "execution_count": null,
   "metadata": {},
   "outputs": [],
   "source": [
    "hit_eval = evaluate_spread(G, payoff_dict, ranked_hit)"
   ]
  },
  {
   "cell_type": "code",
   "execution_count": null,
   "metadata": {
    "scrolled": false
   },
   "outputs": [],
   "source": [
    "plot_distribution(hit_eval, \"Hits-guided\")"
   ]
  }
 ],
 "metadata": {
  "kernelspec": {
   "display_name": "Python 3",
   "language": "python",
   "name": "python3"
  },
  "language_info": {
   "codemirror_mode": {
    "name": "ipython",
    "version": 3
   },
   "file_extension": ".py",
   "mimetype": "text/x-python",
   "name": "python",
   "nbconvert_exporter": "python",
   "pygments_lexer": "ipython3",
   "version": "3.7.2"
  }
 },
 "nbformat": 4,
 "nbformat_minor": 2
}
